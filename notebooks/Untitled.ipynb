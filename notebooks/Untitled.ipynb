{
 "cells": [
  {
   "cell_type": "code",
   "execution_count": 1,
   "metadata": {},
   "outputs": [
    {
     "name": "stdout",
     "output_type": "stream",
     "text": [
      "Populating the interactive namespace from numpy and matplotlib\n"
     ]
    }
   ],
   "source": [
    "import time\n",
    "import os\n",
    "import torchvision.models as models\n",
    "import numpy as np\n",
    "import torch\n",
    "from torch.autograd import Variable\n",
    "import torch.nn as nn\n",
    "import torch.nn.functional as F\n",
    "from torch import optim\n",
    "import torch.utils.model_zoo as model_zoo\n",
    "import cv2\n",
    "import torchvision\n",
    "from torchvision import transforms\n",
    "from torchvision.utils import make_grid\n",
    "from PIL import Image\n",
    "from collections import OrderedDict\n",
    "from PIL import Image\n",
    "# import matplotlib.pyplot as plt\n",
    "from torch.optim.lr_scheduler import ReduceLROnPlateau\n",
    "from torchvision import transforms\n",
    "from PIL import Image, ImageOps\n",
    "from torch.autograd import Variable\n",
    "from torchvision.utils import make_grid\n",
    "import numpy as np\n",
    "\n",
    "import matplotlib.pyplot as plt\n",
    "%pylab inline"
   ]
  },
  {
   "cell_type": "code",
   "execution_count": 2,
   "metadata": {},
   "outputs": [],
   "source": [
    "def load_image(img_path, to_array=False, to_variable=False):\n",
    "    img = Image.open(img_path).convert(\"RGB\")\n",
    "    img = ImageOps.fit(img, (224,224), Image.ANTIALIAS)\n",
    "\n",
    "    scale = transforms.Scale((224,224))\n",
    "    tensorize = transforms.ToTensor()\n",
    "    normalize = transforms.Normalize(mean=[0.485, 0.456, 0.406], std=[0.229, 0.224, 0.225])\n",
    "\n",
    "    loader = transforms.Compose([\n",
    "        scale, tensorize, normalize\n",
    "    ])\n",
    "    img_tensor = loader(img)\n",
    "\n",
    "    if to_array:\n",
    "        img_tensor = img_tensor.unsqueeze(0)\n",
    "    if to_variable:\n",
    "        img_tensor = Variable(img_tensor)\n",
    "\n",
    "    return img_tensor"
   ]
  },
  {
   "cell_type": "code",
   "execution_count": 78,
   "metadata": {},
   "outputs": [],
   "source": [
    "class FeatureExtractor(nn.Sequential):\n",
    "    def __init__(self):\n",
    "        super(FeatureExtractor, self).__init__()\n",
    "\n",
    "    def add_layer(self, name, layer):\n",
    "        self.add_module(name, layer)\n",
    "\n",
    "    def forward(self, x):\n",
    "        list = []\n",
    "        for module in self._modules:\n",
    "            x = self._modules[module](x)\n",
    "            list.append(x)\n",
    "        return x\n",
    "\n",
    "\n",
    "class VGG19:\n",
    "    def __init__(self,use_cuda=True):\n",
    "        self.cnn_temp = models.vgg19(pretrained=True).features\n",
    "        self.model = FeatureExtractor()  # the new Feature extractor module network\n",
    "        conv_counter = 1\n",
    "        relu_counter = 1\n",
    "        batn_counter = 1\n",
    "\n",
    "        block_counter = 1\n",
    "        self.use_cuda = use_cuda\n",
    "\n",
    "        for i, layer in enumerate(list(self.cnn_temp)[:-1]):\n",
    "\n",
    "            if isinstance(layer, nn.Conv2d):\n",
    "                name = \"conv_\" + str(block_counter) + \"_\" + str(conv_counter) + \"__\" + str(i)\n",
    "                conv_counter += 1\n",
    "                self.model.add_layer(name, layer)\n",
    "\n",
    "            if isinstance(layer, nn.ReLU):\n",
    "                name = \"relu_\" + str(block_counter) + \"_\" + str(relu_counter) + \"__\" + str(i)\n",
    "                relu_counter += 1\n",
    "                self.model.add_layer(name, nn.ReLU(inplace=False))\n",
    "\n",
    "            if isinstance(layer, nn.MaxPool2d):\n",
    "                name = \"pool_\" + str(block_counter) + \"__\" + str(i)\n",
    "                batn_counter = relu_counter = conv_counter = 1\n",
    "                block_counter += 1\n",
    "                self.model.add_layer(name, nn.AvgPool2d((2,2)))  # ***\n",
    "\n",
    "\n",
    "            if isinstance(layer, nn.BatchNorm2d):\n",
    "                name = \"batn_\" + str(block_counter) + \"_\" + str(batn_counter) + \"__\" + str(i)\n",
    "                batn_counter += 1\n",
    "                self.model.add_layer(name, layer)  # ***\n",
    "        \n",
    "        self.model.add_layer(\"deconv_1\",nn.Conv2d(512,512,3,padding=1))\n",
    "        self.model.add_layer(\"relu_1\",nn.ReLU())\n",
    "        self.model.add_layer(\"unpool_1\",nn.MaxUnpool2d(2,stride=2))\n",
    "        \n",
    "#         self.model.add_layer(\"deconv_2\",nn.Conv2d(512,256,3,padding=1))\n",
    "#         self.model.add_layer(\"relu_2\",nn.ReLU())\n",
    "#         self.model.add_layer(\"unpool_2\",nn.Upsample(scale_factor=2))\n",
    "        \n",
    "#         self.model.add_layer(\"deconv_3\",nn.Conv2d(256,128,3,padding=1))\n",
    "#         self.model.add_layer(\"relu_3\",nn.ReLU())\n",
    "#         self.model.add_layer(\"unpool_3\",nn.Upsample(scale_factor=2))\n",
    "        \n",
    "#         self.model.add_layer(\"deconv_4\",nn.Conv2d(128,64,3,padding=1))\n",
    "#         self.model.add_layer(\"relu_4\",nn.ReLU())\n",
    "#         self.model.add_layer(\"unpool_4\",nn.Upsample(scale_factor=2))\n",
    "        \n",
    "#         self.model.add_layer(\"deconv_5\",nn.Conv2d(64,3,3,padding=1))\n",
    "#         self.model.add_layer(\"relu_5\",nn.Tanh())\n",
    "\n",
    "        \n",
    "#         self.model.add_layer(\"deconv_2\",nn.ConvTranspose2d(512,256,3,padding=1,stride=2,output_padding=1))\n",
    "#         self.model.add_layer(\"relu_2\",nn.ReLU())\n",
    "        \n",
    "#         self.model.add_layer(\"deconv_3\",nn.ConvTranspose2d(256,128,3,padding=1,stride=2,output_padding=1))\n",
    "#         self.model.add_layer(\"relu_3\",nn.ReLU())\n",
    "        \n",
    "#         self.model.add_layer(\"deconv_4\",nn.ConvTranspose2d(128,64,3,padding=1,stride=2,output_padding=1))\n",
    "#         self.model.add_layer(\"relu_4\",nn.ReLU())\n",
    "        \n",
    "#         self.model.add_layer(\"deconv_5\",nn.ConvTranspose2d(64,3,3,padding=1,stride=1))\n",
    "#         self.model.add_layer(\"relu_5\",nn.Tanh())\n",
    "        \n",
    "        if use_cuda:\n",
    "            self.model.cuda()\n",
    "    "
   ]
  },
  {
   "cell_type": "code",
   "execution_count": 79,
   "metadata": {},
   "outputs": [],
   "source": [
    "m = VGG19()"
   ]
  },
  {
   "cell_type": "code",
   "execution_count": 80,
   "metadata": {
    "scrolled": true
   },
   "outputs": [
    {
     "data": {
      "text/plain": [
       "FeatureExtractor (\n",
       "  (conv_1_1__0): Conv2d(3, 64, kernel_size=(3, 3), stride=(1, 1), padding=(1, 1))\n",
       "  (relu_1_1__1): ReLU ()\n",
       "  (conv_1_2__2): Conv2d(64, 64, kernel_size=(3, 3), stride=(1, 1), padding=(1, 1))\n",
       "  (relu_1_2__3): ReLU ()\n",
       "  (pool_1__4): AvgPool2d (size=(2, 2), stride=(2, 2), padding=0, ceil_mode=False, count_include_pad=True)\n",
       "  (conv_2_1__5): Conv2d(64, 128, kernel_size=(3, 3), stride=(1, 1), padding=(1, 1))\n",
       "  (relu_2_1__6): ReLU ()\n",
       "  (conv_2_2__7): Conv2d(128, 128, kernel_size=(3, 3), stride=(1, 1), padding=(1, 1))\n",
       "  (relu_2_2__8): ReLU ()\n",
       "  (pool_2__9): AvgPool2d (size=(2, 2), stride=(2, 2), padding=0, ceil_mode=False, count_include_pad=True)\n",
       "  (conv_3_1__10): Conv2d(128, 256, kernel_size=(3, 3), stride=(1, 1), padding=(1, 1))\n",
       "  (relu_3_1__11): ReLU ()\n",
       "  (conv_3_2__12): Conv2d(256, 256, kernel_size=(3, 3), stride=(1, 1), padding=(1, 1))\n",
       "  (relu_3_2__13): ReLU ()\n",
       "  (conv_3_3__14): Conv2d(256, 256, kernel_size=(3, 3), stride=(1, 1), padding=(1, 1))\n",
       "  (relu_3_3__15): ReLU ()\n",
       "  (conv_3_4__16): Conv2d(256, 256, kernel_size=(3, 3), stride=(1, 1), padding=(1, 1))\n",
       "  (relu_3_4__17): ReLU ()\n",
       "  (pool_3__18): AvgPool2d (size=(2, 2), stride=(2, 2), padding=0, ceil_mode=False, count_include_pad=True)\n",
       "  (conv_4_1__19): Conv2d(256, 512, kernel_size=(3, 3), stride=(1, 1), padding=(1, 1))\n",
       "  (relu_4_1__20): ReLU ()\n",
       "  (conv_4_2__21): Conv2d(512, 512, kernel_size=(3, 3), stride=(1, 1), padding=(1, 1))\n",
       "  (relu_4_2__22): ReLU ()\n",
       "  (conv_4_3__23): Conv2d(512, 512, kernel_size=(3, 3), stride=(1, 1), padding=(1, 1))\n",
       "  (relu_4_3__24): ReLU ()\n",
       "  (conv_4_4__25): Conv2d(512, 512, kernel_size=(3, 3), stride=(1, 1), padding=(1, 1))\n",
       "  (relu_4_4__26): ReLU ()\n",
       "  (pool_4__27): AvgPool2d (size=(2, 2), stride=(2, 2), padding=0, ceil_mode=False, count_include_pad=True)\n",
       "  (conv_5_1__28): Conv2d(512, 512, kernel_size=(3, 3), stride=(1, 1), padding=(1, 1))\n",
       "  (relu_5_1__29): ReLU ()\n",
       "  (conv_5_2__30): Conv2d(512, 512, kernel_size=(3, 3), stride=(1, 1), padding=(1, 1))\n",
       "  (relu_5_2__31): ReLU ()\n",
       "  (conv_5_3__32): Conv2d(512, 512, kernel_size=(3, 3), stride=(1, 1), padding=(1, 1))\n",
       "  (relu_5_3__33): ReLU ()\n",
       "  (conv_5_4__34): Conv2d(512, 512, kernel_size=(3, 3), stride=(1, 1), padding=(1, 1))\n",
       "  (relu_5_4__35): ReLU ()\n",
       "  (deconv_1): Conv2d(512, 512, kernel_size=(3, 3), stride=(1, 1), padding=(1, 1))\n",
       "  (relu_1): ReLU ()\n",
       "  (unpool_1): MaxUnpool2d (size=(2, 2), stride=(2, 2), padding=(0, 0))\n",
       ")"
      ]
     },
     "execution_count": 80,
     "metadata": {},
     "output_type": "execute_result"
    }
   ],
   "source": [
    "m.model"
   ]
  },
  {
   "cell_type": "code",
   "execution_count": 81,
   "metadata": {},
   "outputs": [],
   "source": [
    "img = load_image('../data/raw/mona.png',to_array=True,to_variable=True).cuda()"
   ]
  },
  {
   "cell_type": "code",
   "execution_count": 82,
   "metadata": {},
   "outputs": [
    {
     "data": {
      "text/plain": [
       "Variable containing:\n",
       "( 0 , 0 ,.,.) = \n",
       "  0.6563  0.8447  0.8276  ...   0.7933  1.9749  2.2489\n",
       "  0.7248  0.7762  0.8104  ...   0.8276  1.9749  2.2489\n",
       "  0.8104  0.8447  0.7077  ...   0.8789  1.9920  2.2489\n",
       "           ...             ⋱             ...          \n",
       " -0.1999 -0.2684 -0.3027  ...  -1.3130  1.5982  2.2489\n",
       "  1.9235  1.9064  1.8893  ...   1.7694  2.1633  2.2489\n",
       "  2.2489  2.2489  2.2489  ...   2.2489  2.2489  2.2489\n",
       "\n",
       "( 0 , 1 ,.,.) = \n",
       "  0.3277  0.5028  0.4503  ...   0.2227  2.0259  2.4286\n",
       "  0.3803  0.4328  0.4153  ...   0.2752  2.0259  2.4286\n",
       "  0.4853  0.5203  0.3452  ...   0.3627  2.0259  2.4286\n",
       "           ...             ⋱             ...          \n",
       " -0.3550 -0.4251 -0.4426  ...  -1.3880  1.7283  2.4286\n",
       "  2.0434  2.0434  2.0434  ...   1.9034  2.3410  2.4286\n",
       "  2.4286  2.4286  2.4286  ...   2.4286  2.4286  2.4286\n",
       "\n",
       "( 0 , 2 ,.,.) = \n",
       " -0.7587 -0.5844 -0.6367  ...  -0.7064  2.0125  2.6400\n",
       " -0.7413 -0.6890 -0.6890  ...  -0.7238  2.0125  2.6400\n",
       " -0.7064 -0.6715 -0.8284  ...  -0.7238  2.0125  2.6400\n",
       "           ...             ⋱             ...          \n",
       " -0.5321 -0.5844 -0.6193  ...  -1.1770  1.9428  2.6400\n",
       "  2.2043  2.1868  2.1868  ...   2.1171  2.5529  2.6400\n",
       "  2.6400  2.6400  2.6400  ...   2.6400  2.6400  2.6400\n",
       "[torch.cuda.FloatTensor of size 1x3x224x224 (GPU 0)]"
      ]
     },
     "execution_count": 82,
     "metadata": {},
     "output_type": "execute_result"
    }
   ],
   "source": [
    "img"
   ]
  },
  {
   "cell_type": "code",
   "execution_count": 83,
   "metadata": {},
   "outputs": [
    {
     "ename": "TypeError",
     "evalue": "forward() missing 1 required positional argument: 'indices'",
     "output_type": "error",
     "traceback": [
      "\u001b[0;31m---------------------------------------------------------------------------\u001b[0m",
      "\u001b[0;31mTypeError\u001b[0m                                 Traceback (most recent call last)",
      "\u001b[0;32m<ipython-input-83-b43b994decca>\u001b[0m in \u001b[0;36m<module>\u001b[0;34m()\u001b[0m\n\u001b[0;32m----> 1\u001b[0;31m \u001b[0mt\u001b[0m \u001b[0;34m=\u001b[0m \u001b[0mm\u001b[0m\u001b[0;34m.\u001b[0m\u001b[0mmodel\u001b[0m\u001b[0;34m(\u001b[0m\u001b[0mimg\u001b[0m\u001b[0;34m)\u001b[0m\u001b[0;34m\u001b[0m\u001b[0m\n\u001b[0m",
      "\u001b[0;32m~/ml/Deep-Image-Analogy/.venv/lib/python3.6/site-packages/torch/nn/modules/module.py\u001b[0m in \u001b[0;36m__call__\u001b[0;34m(self, *input, **kwargs)\u001b[0m\n\u001b[1;32m    222\u001b[0m         \u001b[0;32mfor\u001b[0m \u001b[0mhook\u001b[0m \u001b[0;32min\u001b[0m \u001b[0mself\u001b[0m\u001b[0;34m.\u001b[0m\u001b[0m_forward_pre_hooks\u001b[0m\u001b[0;34m.\u001b[0m\u001b[0mvalues\u001b[0m\u001b[0;34m(\u001b[0m\u001b[0;34m)\u001b[0m\u001b[0;34m:\u001b[0m\u001b[0;34m\u001b[0m\u001b[0m\n\u001b[1;32m    223\u001b[0m             \u001b[0mhook\u001b[0m\u001b[0;34m(\u001b[0m\u001b[0mself\u001b[0m\u001b[0;34m,\u001b[0m \u001b[0minput\u001b[0m\u001b[0;34m)\u001b[0m\u001b[0;34m\u001b[0m\u001b[0m\n\u001b[0;32m--> 224\u001b[0;31m         \u001b[0mresult\u001b[0m \u001b[0;34m=\u001b[0m \u001b[0mself\u001b[0m\u001b[0;34m.\u001b[0m\u001b[0mforward\u001b[0m\u001b[0;34m(\u001b[0m\u001b[0;34m*\u001b[0m\u001b[0minput\u001b[0m\u001b[0;34m,\u001b[0m \u001b[0;34m**\u001b[0m\u001b[0mkwargs\u001b[0m\u001b[0;34m)\u001b[0m\u001b[0;34m\u001b[0m\u001b[0m\n\u001b[0m\u001b[1;32m    225\u001b[0m         \u001b[0;32mfor\u001b[0m \u001b[0mhook\u001b[0m \u001b[0;32min\u001b[0m \u001b[0mself\u001b[0m\u001b[0;34m.\u001b[0m\u001b[0m_forward_hooks\u001b[0m\u001b[0;34m.\u001b[0m\u001b[0mvalues\u001b[0m\u001b[0;34m(\u001b[0m\u001b[0;34m)\u001b[0m\u001b[0;34m:\u001b[0m\u001b[0;34m\u001b[0m\u001b[0m\n\u001b[1;32m    226\u001b[0m             \u001b[0mhook_result\u001b[0m \u001b[0;34m=\u001b[0m \u001b[0mhook\u001b[0m\u001b[0;34m(\u001b[0m\u001b[0mself\u001b[0m\u001b[0;34m,\u001b[0m \u001b[0minput\u001b[0m\u001b[0;34m,\u001b[0m \u001b[0mresult\u001b[0m\u001b[0;34m)\u001b[0m\u001b[0;34m\u001b[0m\u001b[0m\n",
      "\u001b[0;32m<ipython-input-78-4b6e6af8810d>\u001b[0m in \u001b[0;36mforward\u001b[0;34m(self, x)\u001b[0m\n\u001b[1;32m      9\u001b[0m         \u001b[0mlist\u001b[0m \u001b[0;34m=\u001b[0m \u001b[0;34m[\u001b[0m\u001b[0;34m]\u001b[0m\u001b[0;34m\u001b[0m\u001b[0m\n\u001b[1;32m     10\u001b[0m         \u001b[0;32mfor\u001b[0m \u001b[0mmodule\u001b[0m \u001b[0;32min\u001b[0m \u001b[0mself\u001b[0m\u001b[0;34m.\u001b[0m\u001b[0m_modules\u001b[0m\u001b[0;34m:\u001b[0m\u001b[0;34m\u001b[0m\u001b[0m\n\u001b[0;32m---> 11\u001b[0;31m             \u001b[0mx\u001b[0m \u001b[0;34m=\u001b[0m \u001b[0mself\u001b[0m\u001b[0;34m.\u001b[0m\u001b[0m_modules\u001b[0m\u001b[0;34m[\u001b[0m\u001b[0mmodule\u001b[0m\u001b[0;34m]\u001b[0m\u001b[0;34m(\u001b[0m\u001b[0mx\u001b[0m\u001b[0;34m)\u001b[0m\u001b[0;34m\u001b[0m\u001b[0m\n\u001b[0m\u001b[1;32m     12\u001b[0m             \u001b[0mlist\u001b[0m\u001b[0;34m.\u001b[0m\u001b[0mappend\u001b[0m\u001b[0;34m(\u001b[0m\u001b[0mx\u001b[0m\u001b[0;34m)\u001b[0m\u001b[0;34m\u001b[0m\u001b[0m\n\u001b[1;32m     13\u001b[0m         \u001b[0;32mreturn\u001b[0m \u001b[0mx\u001b[0m\u001b[0;34m\u001b[0m\u001b[0m\n",
      "\u001b[0;32m~/ml/Deep-Image-Analogy/.venv/lib/python3.6/site-packages/torch/nn/modules/module.py\u001b[0m in \u001b[0;36m__call__\u001b[0;34m(self, *input, **kwargs)\u001b[0m\n\u001b[1;32m    222\u001b[0m         \u001b[0;32mfor\u001b[0m \u001b[0mhook\u001b[0m \u001b[0;32min\u001b[0m \u001b[0mself\u001b[0m\u001b[0;34m.\u001b[0m\u001b[0m_forward_pre_hooks\u001b[0m\u001b[0;34m.\u001b[0m\u001b[0mvalues\u001b[0m\u001b[0;34m(\u001b[0m\u001b[0;34m)\u001b[0m\u001b[0;34m:\u001b[0m\u001b[0;34m\u001b[0m\u001b[0m\n\u001b[1;32m    223\u001b[0m             \u001b[0mhook\u001b[0m\u001b[0;34m(\u001b[0m\u001b[0mself\u001b[0m\u001b[0;34m,\u001b[0m \u001b[0minput\u001b[0m\u001b[0;34m)\u001b[0m\u001b[0;34m\u001b[0m\u001b[0m\n\u001b[0;32m--> 224\u001b[0;31m         \u001b[0mresult\u001b[0m \u001b[0;34m=\u001b[0m \u001b[0mself\u001b[0m\u001b[0;34m.\u001b[0m\u001b[0mforward\u001b[0m\u001b[0;34m(\u001b[0m\u001b[0;34m*\u001b[0m\u001b[0minput\u001b[0m\u001b[0;34m,\u001b[0m \u001b[0;34m**\u001b[0m\u001b[0mkwargs\u001b[0m\u001b[0;34m)\u001b[0m\u001b[0;34m\u001b[0m\u001b[0m\n\u001b[0m\u001b[1;32m    225\u001b[0m         \u001b[0;32mfor\u001b[0m \u001b[0mhook\u001b[0m \u001b[0;32min\u001b[0m \u001b[0mself\u001b[0m\u001b[0;34m.\u001b[0m\u001b[0m_forward_hooks\u001b[0m\u001b[0;34m.\u001b[0m\u001b[0mvalues\u001b[0m\u001b[0;34m(\u001b[0m\u001b[0;34m)\u001b[0m\u001b[0;34m:\u001b[0m\u001b[0;34m\u001b[0m\u001b[0m\n\u001b[1;32m    226\u001b[0m             \u001b[0mhook_result\u001b[0m \u001b[0;34m=\u001b[0m \u001b[0mhook\u001b[0m\u001b[0;34m(\u001b[0m\u001b[0mself\u001b[0m\u001b[0;34m,\u001b[0m \u001b[0minput\u001b[0m\u001b[0;34m,\u001b[0m \u001b[0mresult\u001b[0m\u001b[0;34m)\u001b[0m\u001b[0;34m\u001b[0m\u001b[0m\n",
      "\u001b[0;31mTypeError\u001b[0m: forward() missing 1 required positional argument: 'indices'"
     ]
    }
   ],
   "source": [
    "t = m.model(img)"
   ]
  },
  {
   "cell_type": "code",
   "execution_count": null,
   "metadata": {
    "scrolled": true
   },
   "outputs": [],
   "source": [
    "t"
   ]
  },
  {
   "cell_type": "code",
   "execution_count": 57,
   "metadata": {},
   "outputs": [],
   "source": [
    "optimizer = optim.Adam(m.model.parameters())"
   ]
  },
  {
   "cell_type": "code",
   "execution_count": 58,
   "metadata": {},
   "outputs": [],
   "source": [
    "loss  = nn.MSELoss(size_average=True)"
   ]
  },
  {
   "cell_type": "code",
   "execution_count": 59,
   "metadata": {
    "scrolled": true
   },
   "outputs": [
    {
     "name": "stdout",
     "output_type": "stream",
     "text": [
      "[ 1.86759734]\n",
      "[ 1.51938272]\n",
      "[ 1.67221475]\n",
      "[ 1.67219377]\n",
      "[ 1.67219377]\n",
      "[ 1.67219377]\n",
      "[ 1.67219377]\n",
      "[ 1.67219377]\n",
      "[ 1.67219377]\n",
      "[ 1.67219377]\n",
      "[ 1.67219377]\n",
      "[ 1.67219377]\n",
      "[ 1.67219377]\n",
      "[ 1.67219377]\n",
      "[ 1.67219377]\n",
      "[ 1.67219377]\n",
      "[ 1.67219377]\n",
      "[ 1.67219377]\n",
      "[ 1.67219377]\n",
      "[ 1.67219377]\n"
     ]
    }
   ],
   "source": [
    "for i in range(20):\n",
    "    output = m.model(img)\n",
    "    loss_val = loss(output,img)\n",
    "    loss_val.backward()\n",
    "    optimizer.step()\n",
    "    print(loss_val.data.cpu().numpy())\n",
    "    "
   ]
  },
  {
   "cell_type": "code",
   "execution_count": 60,
   "metadata": {},
   "outputs": [],
   "source": [
    "t = m.model(img).data.cpu().squeeze().numpy()"
   ]
  },
  {
   "cell_type": "code",
   "execution_count": 71,
   "metadata": {},
   "outputs": [
    {
     "data": {
      "text/plain": [
       "(3, 224, 224)"
      ]
     },
     "execution_count": 71,
     "metadata": {},
     "output_type": "execute_result"
    }
   ],
   "source": [
    "t.shape"
   ]
  },
  {
   "cell_type": "code",
   "execution_count": 61,
   "metadata": {},
   "outputs": [
    {
     "data": {
      "text/plain": [
       "array([-1.,  1.], dtype=float32)"
      ]
     },
     "execution_count": 61,
     "metadata": {},
     "output_type": "execute_result"
    }
   ],
   "source": [
    "np.unique(t)"
   ]
  },
  {
   "cell_type": "code",
   "execution_count": 75,
   "metadata": {},
   "outputs": [
    {
     "data": {
      "text/plain": [
       "<matplotlib.image.AxesImage at 0x7f20510da7f0>"
      ]
     },
     "execution_count": 75,
     "metadata": {},
     "output_type": "execute_result"
    },
    {
     "data": {
      "image/png": "[encoded data removed]",
      "text/plain": [
       "<matplotlib.figure.Figure at 0x7f205116b128>"
      ]
     },
     "metadata": {},
     "output_type": "display_data"
    }
   ],
   "source": [
    "plt.imshow(t.transpose(1,2,0))"
   ]
  },
  {
   "cell_type": "code",
   "execution_count": 63,
   "metadata": {},
   "outputs": [
    {
     "ename": "AttributeError",
     "evalue": "'numpy.ndarray' object has no attribute 'numpy'",
     "output_type": "error",
     "traceback": [
      "\u001b[0;31m---------------------------------------------------------------------------\u001b[0m",
      "\u001b[0;31mAttributeError\u001b[0m                            Traceback (most recent call last)",
      "\u001b[0;32m<ipython-input-63-9c094877f8c3>\u001b[0m in \u001b[0;36m<module>\u001b[0;34m()\u001b[0m\n\u001b[0;32m----> 1\u001b[0;31m \u001b[0mt\u001b[0m\u001b[0;34m.\u001b[0m\u001b[0msqueeze\u001b[0m\u001b[0;34m(\u001b[0m\u001b[0;34m)\u001b[0m\u001b[0;34m.\u001b[0m\u001b[0mnumpy\u001b[0m\u001b[0;34m(\u001b[0m\u001b[0;34m)\u001b[0m\u001b[0;34m.\u001b[0m\u001b[0mtranspose\u001b[0m\u001b[0;34m(\u001b[0m\u001b[0;36m1\u001b[0m\u001b[0;34m,\u001b[0m\u001b[0;36m2\u001b[0m\u001b[0;34m,\u001b[0m\u001b[0;36m0\u001b[0m\u001b[0;34m)\u001b[0m\u001b[0;34m.\u001b[0m\u001b[0mshape\u001b[0m\u001b[0;34m\u001b[0m\u001b[0m\n\u001b[0m",
      "\u001b[0;31mAttributeError\u001b[0m: 'numpy.ndarray' object has no attribute 'numpy'"
     ]
    }
   ],
   "source": [
    "t.squeeze().numpy().transpose(1,2,0).shape"
   ]
  },
  {
   "cell_type": "code",
   "execution_count": null,
   "metadata": {},
   "outputs": [],
   "source": [
    "np.unique(img.data.cpu().numpy())"
   ]
  },
  {
   "cell_type": "code",
   "execution_count": 77,
   "metadata": {},
   "outputs": [
    {
     "data": {
      "text/plain": [
       "array([-2.03571415, -2.01820731, -2.00070024, -1.99803066, -1.98319328,\n",
       "       -1.9656862 , -1.96378124, -1.94817924, -1.94665647, -1.93067217,\n",
       "       -1.92953169, -1.91316521, -1.91240692, -1.89565825, -1.87815738,\n",
       "       -1.87815118, -1.86103272, -1.86064422, -1.84390795, -1.84313726,\n",
       "       -1.82678318, -1.82563019, -1.80965841, -1.80812323, -1.80444443,\n",
       "       -1.79253364, -1.79061615, -1.7870152 , -1.77540886, -1.7731092 ,\n",
       "       -1.76958609, -1.75828421, -1.75560224, -1.75215685, -1.74115944,\n",
       "       -1.73809516, -1.73472762, -1.72403467, -1.72058821, -1.71729851,\n",
       "       -1.70690989, -1.70308125, -1.69986928, -1.68978512, -1.68557417,\n",
       "       -1.68244004, -1.67266035, -1.66806722, -1.66501093, -1.6555357 ,\n",
       "       -1.65056014, -1.6475817 , -1.63841093, -1.63305318, -1.63015246,\n",
       "       -1.62128615, -1.61554623, -1.61272335, -1.60416138, -1.59803915,\n",
       "       -1.59529412, -1.58703661, -1.58053219, -1.57786489, -1.56991184,\n",
       "       -1.56302524, -1.56043577, -1.55278718, -1.54551816, -1.54300654,\n",
       "       -1.53566241, -1.5280112 , -1.52557731, -1.51853764, -1.51050425,\n",
       "       -1.50814819, -1.50141287, -1.49299717, -1.49071896, -1.4842881 ,\n",
       "       -1.47549009, -1.47328973, -1.46716332, -1.45798302, -1.45586061,\n",
       "       -1.45003867, -1.44047606, -1.43843138, -1.4329139 , -1.4229691 ,\n",
       "       -1.42100215, -1.41578913, -1.40546203, -1.40357304, -1.39866436,\n",
       "       -1.38795507, -1.3861438 , -1.38153958, -1.37044799, -1.36871457,\n",
       "       -1.36441481, -1.35294104, -1.35128546, -1.34729016, -1.33543408,\n",
       "       -1.33385623, -1.33016539, -1.317927  , -1.31642699, -1.31304061,\n",
       "       -1.30042005, -1.29899788, -1.29591584, -1.28291309, -1.28156865,\n",
       "       -1.27879107, -1.26540601, -1.26413941, -1.2616663 , -1.24789906,\n",
       "       -1.24671006, -1.24454165, -1.23039198, -1.22928095, -1.22741687,\n",
       "       -1.21288502, -1.21185172, -1.2102921 , -1.19537807, -1.19442248,\n",
       "       -1.19316733, -1.17787099, -1.17699337, -1.17604256, -1.16036403,\n",
       "       -1.15956414, -1.15891778, -1.14285707, -1.1421349 , -1.14179301,\n",
       "       -1.12535   , -1.12470579, -1.12466836, -1.10784304, -1.10754359,\n",
       "       -1.10727668, -1.0904187 , -1.09033608, -1.08984745, -1.07329404,\n",
       "       -1.07282913, -1.07241821, -1.05616927, -1.05532205, -1.0549891 ,\n",
       "       -1.0390445 , -1.03781509, -1.03755987, -1.02191973, -1.02030814,\n",
       "       -1.02013063, -1.00479496, -1.00280106, -1.00270152, -0.98767018,\n",
       "       -0.9852941 , -0.98527229, -0.97054541, -0.96784312, -0.96778709,\n",
       "       -0.95342064, -0.95041388, -0.95028007, -0.93629593, -0.93298471,\n",
       "       -0.93277305, -0.91917115, -0.91555554, -0.91526604, -0.90204638,\n",
       "       -0.8981263 , -0.89775902, -0.88492167, -0.88069713, -0.880252  ,\n",
       "       -0.8677969 , -0.86326796, -0.86274499, -0.85067213, -0.84583873,\n",
       "       -0.84523803, -0.83354741, -0.82840955, -0.82773101, -0.81642264,\n",
       "       -0.81098038, -0.810224  , -0.79929787, -0.79355115, -0.79271698,\n",
       "       -0.78217316, -0.77612197, -0.77521002, -0.76504838, -0.7586928 ,\n",
       "       -0.75770301, -0.74792361, -0.74126357, -0.74019599, -0.7307989 ,\n",
       "       -0.7238344 , -0.72268897, -0.71367413, -0.70640522, -0.70518202,\n",
       "       -0.69654936, -0.68897593, -0.687675  , -0.67942464, -0.67154676,\n",
       "       -0.67016798, -0.66229987, -0.65411752, -0.65266097, -0.6451751 ,\n",
       "       -0.63668835, -0.63515401, -0.62805039, -0.61925918, -0.61764699,\n",
       "       -0.61092561, -0.60182995, -0.60013998, -0.59380084, -0.58440077,\n",
       "       -0.58263302, -0.57667613, -0.5669716 , -0.565126  , -0.55955136,\n",
       "       -0.54954237, -0.54761899, -0.54242659, -0.53211319, -0.53011197,\n",
       "       -0.52530187, -0.51468402, -0.51260501, -0.5081771 , -0.49725482,\n",
       "       -0.49509799, -0.49105233, -0.47982562, -0.47759098, -0.47392759,\n",
       "       -0.46239641, -0.46008399, -0.45680285, -0.44496724, -0.44257697,\n",
       "       -0.43967807, -0.42753804, -0.42506999, -0.42255333, -0.41010883,\n",
       "       -0.40756297, -0.40542859, -0.39267966, -0.39005598, -0.38830382,\n",
       "       -0.37525046, -0.37254897, -0.37117907, -0.35782126, -0.35504198,\n",
       "       -0.35405433, -0.34039208, -0.33753496, -0.33692956, -0.32296288,\n",
       "       -0.32002798, -0.31980482, -0.30553368, -0.30268008, -0.30252096,\n",
       "       -0.28810447, -0.2855553 , -0.28501397, -0.2706753 , -0.26843056,\n",
       "       -0.26750696, -0.2532461 , -0.25130582, -0.24999997, -0.23581691,\n",
       "       -0.23418105, -0.23249297, -0.21838771, -0.2170563 , -0.21498597,\n",
       "       -0.20095852, -0.19993155, -0.19747896, -0.18352933, -0.18280679,\n",
       "       -0.17997196, -0.16610013, -0.16568205, -0.16246496, -0.14867094,\n",
       "       -0.14855729, -0.14495796, -0.13143253, -0.13124175, -0.12745096,\n",
       "       -0.11430778, -0.11381256, -0.10994396, -0.09718303, -0.09638336,\n",
       "       -0.09243695, -0.08005828, -0.07895417, -0.07492995, -0.06293353,\n",
       "       -0.06152498, -0.05742295, -0.04580877, -0.04409578, -0.03991595,\n",
       "       -0.02868402, -0.02666659, -0.02240895, -0.01155927, -0.0092374 ,\n",
       "       -0.00490195,  0.00556549,  0.0081918 ,  0.01260505,  0.02269024,\n",
       "        0.02562099,  0.03011205,  0.03981499,  0.04305018,  0.04761905,\n",
       "        0.05693974,  0.06047938,  0.06512605,  0.07406463,  0.07790857,\n",
       "        0.08263306,  0.09118938,  0.09533776,  0.10014006,  0.10831413,\n",
       "        0.11276696,  0.11764706,  0.12543888,  0.13019615,  0.13515405,\n",
       "        0.14256364,  0.14762534,  0.15266106,  0.15968838,  0.16505454,\n",
       "        0.17016806,  0.17681314,  0.18767506,  0.1939379 ,  0.19991292,\n",
       "        0.20518219,  0.21106265,  0.21734212,  0.2226892 ,  0.2281874 ,\n",
       "        0.23477131,  0.2401962 ,  0.24531215,  0.25220051,  0.25770321,\n",
       "        0.2624369 ,  0.2752102 ,  0.27956167,  0.29271722,  0.29668641,\n",
       "        0.31022421,  0.31381115,  0.32773119,  0.33093593,  0.33934647,\n",
       "        0.34523821,  0.34806067,  0.3627452 ,  0.36518541,  0.38025221,\n",
       "        0.38231018,  0.3977592 ,  0.39943492,  0.41526622,  0.41655967,\n",
       "        0.4327732 ,  0.43368444,  0.45028022,  0.45080918,  0.46778721,\n",
       "        0.46793392,  0.4850587 ,  0.48529422,  0.50218344,  0.50280124,\n",
       "        0.51930821,  0.5203082 ,  0.53643292,  0.53781521,  0.55355769,\n",
       "        0.55532223,  0.57068247,  0.57282925,  0.58780718,  0.5903362 ,\n",
       "        0.60493195,  0.60784322,  0.62205672,  0.62535024,  0.63918144,\n",
       "        0.64285725,  0.65630621,  0.66036421,  0.67343098,  0.67787123,\n",
       "        0.69055575,  0.69537824,  0.70768046,  0.71288526,  0.72480524,\n",
       "        0.73039222,  0.74193001,  0.74789923,  0.75905472,  0.76540625,\n",
       "        0.77617949,  0.78291327,  0.79330426,  0.80042022,  0.81042898,\n",
       "        0.81792724,  0.82755375,  0.83543426,  0.84467852,  0.85294122,\n",
       "        0.86180323,  0.87044823,  0.87892801,  0.88795525,  0.89605278,\n",
       "        0.90546227,  0.91317749,  0.92296922,  0.93030226,  0.94047624,\n",
       "        0.94742703,  0.95798326,  0.96455175,  0.97549027,  0.98167652,\n",
       "        0.99299723,  0.99880129,  1.01050425,  1.015926  ,  1.0280112 ,\n",
       "        1.03305078,  1.04551828,  1.05017555,  1.06302524,  1.06730032,\n",
       "        1.08053231,  1.08442509,  1.09803927,  1.10154974,  1.11554623,\n",
       "        1.11867452,  1.1330533 ,  1.13579929,  1.15056026,  1.15292406,\n",
       "        1.16806722,  1.17004883,  1.18557429,  1.1871736 ,  1.20308125,\n",
       "        1.20429826,  1.22058833,  1.22142303,  1.23809528,  1.2385478 ,\n",
       "        1.25560224,  1.25567257,  1.27279735,  1.27310932,  1.28992212,\n",
       "        1.29061627,  1.30704677,  1.30812323,  1.32417154,  1.32563031,\n",
       "        1.34129632,  1.34313726,  1.35842109,  1.36064422,  1.37554586,\n",
       "        1.3781513 ,  1.39267063,  1.39565825,  1.40979528,  1.41316533,\n",
       "        1.42692006,  1.43067229,  1.44404483,  1.44817924,  1.4611696 ,\n",
       "        1.46568632,  1.47829437,  1.48319328,  1.49541914,  1.50070024,\n",
       "        1.5125438 ,  1.51820731,  1.52966857,  1.53571427,  1.54679334,\n",
       "        1.55322134,  1.56391811,  1.5707283 ,  1.58104289,  1.58823526,\n",
       "        1.59816766,  1.60574234,  1.61529231,  1.62324929,  1.63241708,\n",
       "        1.64075625,  1.64954185,  1.65826333,  1.66666663,  1.67577028,\n",
       "        1.6837914 ,  1.69327736,  1.70091617,  1.71078432,  1.71804082,\n",
       "        1.72829127,  1.7351656 ,  1.74579835,  1.75229037,  1.76330531,\n",
       "        1.7685405 ,  1.76941514,  1.78081226,  1.78596961,  1.78653991,\n",
       "        1.79831934,  1.80339885,  1.80366468,  1.8158263 ,  1.82078946,\n",
       "        1.82082808,  1.83333325,  1.83791411,  1.83825719,  1.85084033,\n",
       "        1.85503888,  1.85568643,  1.86834729,  1.87216365,  1.87311566,\n",
       "        1.88585436,  1.88928843,  1.89054477,  1.90336132,  1.9064132 ,\n",
       "        1.907974  ,  1.92086828,  1.92353797,  1.92540324,  1.93837535,\n",
       "        1.94066262,  1.94283235,  1.95588231,  1.95778739,  1.96026158,\n",
       "        1.97338927,  1.97491217,  1.97769082,  1.99089634,  1.99203694,\n",
       "        1.99511993,  2.0084033 ,  2.00916171,  2.01254916,  2.02591038,\n",
       "        2.02628636,  2.02997828,  2.04341125,  2.04341722,  2.04740763,\n",
       "        2.06053591,  2.06092429,  2.06483674,  2.0776608 ,  2.07843137,\n",
       "        2.08226585,  2.09478545,  2.09593844,  2.09969521,  2.1119101 ,\n",
       "        2.11344528,  2.11712432,  2.129035  ,  2.13095236,  2.13455343,\n",
       "        2.14615965,  2.14845943,  2.15198278,  2.16328454,  2.1694119 ,\n",
       "        2.18040919,  2.18684101,  2.19753385,  2.20427036,  2.21465874,\n",
       "        2.23178339,  2.24890828,  2.34103632,  2.42857146,  2.5528543 ,\n",
       "        2.6400001 ], dtype=float32)"
      ]
     },
     "execution_count": 77,
     "metadata": {},
     "output_type": "execute_result"
    }
   ],
   "source": [
    "np.unique(img.data.cpu().numpy())"
   ]
  },
  {
   "cell_type": "code",
   "execution_count": null,
   "metadata": {},
   "outputs": [],
   "source": []
  }
 ],
 "metadata": {
  "kernelspec": {
   "display_name": "Python 3",
   "language": "python",
   "name": "python3"
  },
  "language_info": {
   "codemirror_mode": {
    "name": "ipython",
    "version": 3
   },
   "file_extension": ".py",
   "mimetype": "text/x-python",
   "name": "python",
   "nbconvert_exporter": "python",
   "pygments_lexer": "ipython3",
   "version": "3.6.3"
  }
 },
 "nbformat": 4,
 "nbformat_minor": 2
}
